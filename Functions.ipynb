{
  "nbformat": 4,
  "nbformat_minor": 0,
  "metadata": {
    "colab": {
      "name": "Functions.ipynb",
      "provenance": []
    },
    "kernelspec": {
      "name": "python3",
      "display_name": "Python 3"
    }
  },
  "cells": [
    {
      "cell_type": "code",
      "source": [
        "import math\n",
        "\n",
        "def is_prime(n: int) -> bool:\n",
        "    \"Return True if n is prime, otherwise False.\"\n",
        "\n",
        "\n",
        "    if n <= 1:\n",
        "        return False\n",
        "    if n <= 3:\n",
        "        return True        # 2 and 3 are prime\n",
        "    if n % 2 == 0 or n % 3 == 0:\n",
        "        return False       # divisible by 2 or 3\n",
        "\n",
        "\n",
        "    limit = int(math.isqrt(n))\n",
        "    i = 5\n",
        "    while i <= limit:\n",
        "        if n % i == 0 or n % (i + 2) == 0:\n",
        "            return False\n",
        "        i += 6\n",
        "    return True"
      ],
      "metadata": {
        "id": "mjUSdXkZ_MTJ"
      },
      "execution_count": 30,
      "outputs": []
    },
    {
      "cell_type": "code",
      "source": [
        "def calculator(a, b, operation):\n",
        "\n",
        "    if op == \"add\":\n",
        "        return a + b\n",
        "    elif op == \"subtract\":\n",
        "        return a - b\n",
        "    elif op == \"multiply\":\n",
        "        return a * b\n",
        "    elif op == \"divide\":\n",
        "        if b == 0:\n",
        "            raise (\"Cannot divide by zero\")\n",
        "        return a / b\n",
        "    else:\n",
        "        raise (f\"Unsupported operation: {operation}\")"
      ],
      "metadata": {
        "id": "eO3DHYI7Gghy"
      },
      "execution_count": 52,
      "outputs": []
    }
  ]
}