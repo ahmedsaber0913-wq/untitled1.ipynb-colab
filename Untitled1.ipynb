{
  "nbformat": 4,
  "nbformat_minor": 0,
  "metadata": {
    "colab": {
      "name": "Untitled1.ipynb",
      "provenance": [],
      "toc_visible": true,
      "include_colab_link": true
    },
    "kernelspec": {
      "name": "python2",
      "display_name": "Python 2"
    }
  },
  "cells": [
    {
      "cell_type": "markdown",
      "metadata": {
        "id": "view-in-github",
        "colab_type": "text"
      },
      "source": [
        "<a href=\"https://colab.research.google.com/github/ahmedsaber0913-wq/untitled1.ipynb-colab/blob/main/Untitled1.ipynb\" target=\"_parent\"><img src=\"https://colab.research.google.com/assets/colab-badge.svg\" alt=\"Open In Colab\"/></a>"
      ]
    },
    {
      "cell_type": "code",
      "source": [
        "temprature = 15\n",
        "if temprature >= 30 :\n",
        "  print (\"its hot day.stay hydrated\")\n",
        "if temprature > 20 and temprature < 29 :\n",
        "  print(\"its warm day.enjoy the weather\")\n",
        "if temprature > 10 and temprature < 19 :\n",
        "  print(\"its cool day .wear jacket\")\n",
        "if temprature < 10 :\n",
        "  print(\"its cold day.stay warm\")"
      ],
      "metadata": {
        "colab": {
          "base_uri": "https://localhost:8080/"
        },
        "id": "EKg4fh4jtG0D",
        "outputId": "46dded3a-4eb4-460c-c52b-e6a661f11680"
      },
      "execution_count": 91,
      "outputs": [
        {
          "output_type": "stream",
          "name": "stdout",
          "text": [
            "its cool day .wear jacket\n"
          ]
        }
      ]
    },
    {
      "cell_type": "code",
      "source": [
        "numbers=list(range(1,21))\n",
        "print (\"Numbers divisble by 3\")\n",
        "for num in numbers :\n",
        "  if num % 3 == 0 :\n",
        "    print (num)"
      ],
      "metadata": {
        "colab": {
          "base_uri": "https://localhost:8080/"
        },
        "id": "deGC_pXF70nz",
        "outputId": "c8872975-d659-45b8-9846-7e77fbb99210"
      },
      "execution_count": 87,
      "outputs": [
        {
          "output_type": "stream",
          "name": "stdout",
          "text": [
            "Numbers divisble by 3\n",
            "3\n",
            "6\n",
            "9\n",
            "12\n",
            "15\n",
            "18\n"
          ]
        }
      ]
    }
  ]
}